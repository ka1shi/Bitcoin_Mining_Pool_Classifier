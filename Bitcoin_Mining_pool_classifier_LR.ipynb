{
 "cells": [
  {
   "cell_type": "code",
   "execution_count": null,
   "metadata": {},
   "outputs": [],
   "source": [
    "#Importing Libraries\n",
    "\n",
    "import os\n",
    "import time\n",
    "import math\n",
    "import numpy as np\n",
    "import pandas as pd\n",
    "import matplotlib.pyplot as plt\n",
    "%matplotlib inline\n",
    "\n",
    "from sklearn.metrics import confusion_matrix\n",
    "from sklearn.model_selection import train_test_split\n",
    "from sklearn.linear_model import LogisticRegression\n",
    "import sklearn.utils\n",
    "\n",
    "import seaborn as sns"
   ]
  },
  {
   "cell_type": "code",
   "execution_count": null,
   "metadata": {},
   "outputs": [],
   "source": [
    "def load_data(filename):\n",
    "    \"\"\"\n",
    "    To load Mining Pool address data from csv file\n",
    "    \n",
    "    Input:\n",
    "    filename -> A string that represents where the datafile can be located\n",
    "    \n",
    "    Output:\n",
    "    data -> Dataframe of Mining Pool address data\n",
    "    \"\"\"\n",
    "    \n",
    "    #Load the data\n",
    "    data = pd.read_csv(filename)\n",
    "    \n",
    "    return data"
   ]
  },
  {
   "cell_type": "code",
   "execution_count": null,
   "metadata": {},
   "outputs": [],
   "source": [
    "# Loading data\n",
    "# data files for is_miner=True and is_miner=False are extracted from google big query\n",
    "# more details in document file\n",
    "\n",
    "data_true = load_data(\"mining_pool_data_true.csv\")  # is_miner = true\n",
    "data_false = load_data(\"mining_pool_data_false.csv\") # is_miner = false\n",
    "\n",
    "print(data_true.shape)\n",
    "print(data_false.shape)"
   ]
  },
  {
   "cell_type": "code",
   "execution_count": null,
   "metadata": {},
   "outputs": [],
   "source": [
    "data_true.head()"
   ]
  },
  {
   "cell_type": "code",
   "execution_count": null,
   "metadata": {},
   "outputs": [],
   "source": [
    "data_false.head()"
   ]
  },
  {
   "cell_type": "code",
   "execution_count": null,
   "metadata": {},
   "outputs": [],
   "source": [
    "# combining both data_true and data_false and shuffle the resultant data\n",
    "\n",
    "frames = [data_true, data_false]\n",
    "data = pd.concat(frames, join='inner', ignore_index = True)\n",
    "\n",
    "data = sklearn.utils.shuffle(data)"
   ]
  },
  {
   "cell_type": "code",
   "execution_count": null,
   "metadata": {},
   "outputs": [],
   "source": [
    "#Store combined data\n",
    "data.to_csv('mining_data_final.csv') "
   ]
  },
  {
   "cell_type": "code",
   "execution_count": null,
   "metadata": {},
   "outputs": [],
   "source": [
    "# Analysis of data\n",
    "#Exploratory data analysis\n",
    "data.head()"
   ]
  },
  {
   "cell_type": "code",
   "execution_count": null,
   "metadata": {},
   "outputs": [],
   "source": [
    "data.info()"
   ]
  },
  {
   "cell_type": "code",
   "execution_count": null,
   "metadata": {},
   "outputs": [],
   "source": [
    "data.describe()"
   ]
  },
  {
   "cell_type": "code",
   "execution_count": null,
   "metadata": {},
   "outputs": [],
   "source": [
    "# To check null values in data\n",
    "data.apply(lambda x : sum(x.isnull()), axis=0)\n",
    "\n",
    "#no null value found except in stddev_output_idle_time and stddev_input_idle_time  "
   ]
  },
  {
   "cell_type": "code",
   "execution_count": null,
   "metadata": {},
   "outputs": [],
   "source": [
    "#Drop stddev_output_idle_time  and stddev_input_idle_time \n",
    "#(as have null values and data have mean_output_idle_time and mean_input_idle_time)\n",
    "\n",
    "data.drop(labels=['stddev_output_idle_time','stddev_input_idle_time'], axis=1, inplace=True)"
   ]
  },
  {
   "cell_type": "code",
   "execution_count": null,
   "metadata": {},
   "outputs": [],
   "source": [
    "data.info()"
   ]
  },
  {
   "cell_type": "code",
   "execution_count": null,
   "metadata": {},
   "outputs": [],
   "source": [
    "# Correaltional Matrix\n",
    "\n",
    "data_temp = data.drop(labels=['is_miner','address'], axis=1)\n",
    "corr = data_temp.corr()\n",
    "\n",
    "ax = sns.heatmap(corr, vmin=-1, vmax=1, center=0,\n",
    "                cmap=sns.diverging_palette(20,220, n=200),\n",
    "                square=True, linewidths=0.005)\n",
    "\n",
    "ax.set_xticklabels(\n",
    "    ax.get_xticklabels(),\n",
    "    rotation=45,\n",
    "    horizontalalignment='right');\n",
    "\n",
    "plt.savefig('mining_corr.png', bbox_inches='tight', pad_inches=0.0)"
   ]
  },
  {
   "cell_type": "code",
   "execution_count": null,
   "metadata": {},
   "outputs": [],
   "source": [
    "data['input_active_months'].hist(bins=20)"
   ]
  },
  {
   "cell_type": "code",
   "execution_count": null,
   "metadata": {},
   "outputs": [],
   "source": [
    "data['output_active_months'].hist(bins=20)"
   ]
  },
  {
   "cell_type": "code",
   "execution_count": null,
   "metadata": {},
   "outputs": [],
   "source": [
    "# Training testing split\n",
    "features = data.drop(labels=['is_miner','address'], axis=1)\n",
    "#print(data.columns)\n",
    "\n",
    "#print(features.columns)\n",
    "target = data['is_miner'].values\n",
    "indices = range(len(features))\n",
    "\n",
    "#print(target)\n",
    "#print(indices)\n",
    "\n",
    "#Train test split\n",
    "X_train, X_test, y_train, y_test, indices_train, indices_test = train_test_split(features, target, indices,  test_size=0.2)\n",
    "\n",
    "#print(indices_train)\n",
    "#print(indices_test)"
   ]
  },
  {
   "cell_type": "code",
   "execution_count": null,
   "metadata": {},
   "outputs": [],
   "source": [
    "rf = LogisticRegression()\n",
    "start = time.time()\n",
    "rf.fit(X_train, y_train)\n",
    "training_time = int(math.floor(time.time()-start))\n",
    "print(training_time)"
   ]
  },
  {
   "cell_type": "code",
   "execution_count": null,
   "metadata": {},
   "outputs": [],
   "source": [
    "y_pred = rf.predict(X_test) "
   ]
  },
  {
   "cell_type": "code",
   "execution_count": null,
   "metadata": {},
   "outputs": [],
   "source": [
    "score = rf.score(X_test, y_test)\n",
    "print(score)"
   ]
  },
  {
   "cell_type": "code",
   "execution_count": null,
   "metadata": {},
   "outputs": [],
   "source": [
    "cm = confusion_matrix(y_test, y_pred)\n",
    "print(cm)"
   ]
  },
  {
   "cell_type": "code",
   "execution_count": null,
   "metadata": {},
   "outputs": [],
   "source": [
    "#data points where model predicts true, but are labelled as false\n",
    "false_positives = (y_test==False) & (y_pred==True)\n"
   ]
  },
  {
   "cell_type": "code",
   "execution_count": null,
   "metadata": {},
   "outputs": [],
   "source": [
    "#subset to test set data only\n",
    "data_test = data.iloc[indices_test, :]\n",
    "\n",
    "print('False Positive addresses')\n",
    "\n",
    "#subset test set to false positives only\n",
    "print(data_test.iloc[false_positives].shape)\n",
    "\n",
    "data_test.iloc[false_positives].head(15)\n",
    "\n"
   ]
  }
 ],
 "metadata": {
  "kernelspec": {
   "display_name": "Python 3",
   "language": "python",
   "name": "python3"
  },
  "language_info": {
   "codemirror_mode": {
    "name": "ipython",
    "version": 3
   },
   "file_extension": ".py",
   "mimetype": "text/x-python",
   "name": "python",
   "nbconvert_exporter": "python",
   "pygments_lexer": "ipython3",
   "version": "3.7.3"
  }
 },
 "nbformat": 4,
 "nbformat_minor": 2
}
